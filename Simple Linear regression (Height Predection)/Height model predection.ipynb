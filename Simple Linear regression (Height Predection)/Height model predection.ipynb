{
 "cells": [
  {
   "cell_type": "code",
   "execution_count": 7,
   "id": "db5c479e",
   "metadata": {},
   "outputs": [
    {
     "name": "stdout",
     "output_type": "stream",
     "text": [
      "Hola\n"
     ]
    }
   ],
   "source": [
    "print('Hola')"
   ]
  },
  {
   "cell_type": "markdown",
   "id": "fd59c421",
   "metadata": {},
   "source": [
    "Get the data "
   ]
  },
  {
   "cell_type": "code",
   "execution_count": 5,
   "id": "46827b61",
   "metadata": {},
   "outputs": [
    {
     "data": {
      "text/html": [
       "<div>\n",
       "<style scoped>\n",
       "    .dataframe tbody tr th:only-of-type {\n",
       "        vertical-align: middle;\n",
       "    }\n",
       "\n",
       "    .dataframe tbody tr th {\n",
       "        vertical-align: top;\n",
       "    }\n",
       "\n",
       "    .dataframe thead th {\n",
       "        text-align: right;\n",
       "    }\n",
       "</style>\n",
       "<table border=\"1\" class=\"dataframe\">\n",
       "  <thead>\n",
       "    <tr style=\"text-align: right;\">\n",
       "      <th></th>\n",
       "      <th>Age</th>\n",
       "      <th>Height</th>\n",
       "    </tr>\n",
       "  </thead>\n",
       "  <tbody>\n",
       "    <tr>\n",
       "      <th>0</th>\n",
       "      <td>14.767874</td>\n",
       "      <td>59.627484</td>\n",
       "    </tr>\n",
       "    <tr>\n",
       "      <th>1</th>\n",
       "      <td>3.107671</td>\n",
       "      <td>36.146453</td>\n",
       "    </tr>\n",
       "    <tr>\n",
       "      <th>2</th>\n",
       "      <td>7.266917</td>\n",
       "      <td>46.912878</td>\n",
       "    </tr>\n",
       "    <tr>\n",
       "      <th>3</th>\n",
       "      <td>1.815180</td>\n",
       "      <td>29.125660</td>\n",
       "    </tr>\n",
       "    <tr>\n",
       "      <th>4</th>\n",
       "      <td>16.753758</td>\n",
       "      <td>68.170414</td>\n",
       "    </tr>\n",
       "    <tr>\n",
       "      <th>...</th>\n",
       "      <td>...</td>\n",
       "      <td>...</td>\n",
       "    </tr>\n",
       "    <tr>\n",
       "      <th>95</th>\n",
       "      <td>7.323712</td>\n",
       "      <td>46.857505</td>\n",
       "    </tr>\n",
       "    <tr>\n",
       "      <th>96</th>\n",
       "      <td>5.591509</td>\n",
       "      <td>39.339990</td>\n",
       "    </tr>\n",
       "    <tr>\n",
       "      <th>97</th>\n",
       "      <td>2.625606</td>\n",
       "      <td>32.918925</td>\n",
       "    </tr>\n",
       "    <tr>\n",
       "      <th>98</th>\n",
       "      <td>5.519293</td>\n",
       "      <td>40.704154</td>\n",
       "    </tr>\n",
       "    <tr>\n",
       "      <th>99</th>\n",
       "      <td>13.117413</td>\n",
       "      <td>55.177407</td>\n",
       "    </tr>\n",
       "  </tbody>\n",
       "</table>\n",
       "<p>100 rows × 2 columns</p>\n",
       "</div>"
      ],
      "text/plain": [
       "          Age     Height\n",
       "0   14.767874  59.627484\n",
       "1    3.107671  36.146453\n",
       "2    7.266917  46.912878\n",
       "3    1.815180  29.125660\n",
       "4   16.753758  68.170414\n",
       "..        ...        ...\n",
       "95   7.323712  46.857505\n",
       "96   5.591509  39.339990\n",
       "97   2.625606  32.918925\n",
       "98   5.519293  40.704154\n",
       "99  13.117413  55.177407\n",
       "\n",
       "[100 rows x 2 columns]"
      ]
     },
     "execution_count": 5,
     "metadata": {},
     "output_type": "execute_result"
    }
   ],
   "source": [
    "import pandas as pd \n",
    "Data = pd.read_pickle('AgesAndHeights.pkl')\n",
    "Data"
   ]
  },
  {
   "cell_type": "code",
   "execution_count": 3,
   "id": "91e0b3b5",
   "metadata": {},
   "outputs": [],
   "source": [
    "import matplotlib.pyplot as plt "
   ]
  },
  {
   "cell_type": "code",
   "execution_count": 7,
   "id": "f1abaa36",
   "metadata": {},
   "outputs": [
    {
     "data": {
      "text/plain": [
       "<AxesSubplot:>"
      ]
     },
     "execution_count": 7,
     "metadata": {},
     "output_type": "execute_result"
    },
    {
     "data": {
      "image/png": "[encoded data removed]",
      "text/plain": [
       "<Figure size 432x288 with 1 Axes>"
      ]
     },
     "metadata": {
      "needs_background": "light"
     },
     "output_type": "display_data"
    }
   ],
   "source": [
    "Data['Age'].hist()"
   ]
  },
  {
   "cell_type": "code",
   "execution_count": 8,
   "id": "b400df8c",
   "metadata": {},
   "outputs": [
    {
     "data": {
      "text/plain": [
       "<AxesSubplot:>"
      ]
     },
     "execution_count": 8,
     "metadata": {},
     "output_type": "execute_result"
    },
    {
     "data": {
      "image/png": "[encoded data removed]",
      "text/plain": [
       "<Figure size 432x288 with 1 Axes>"
      ]
     },
     "metadata": {
      "needs_background": "light"
     },
     "output_type": "display_data"
    }
   ],
   "source": [
    "Data['Height'].hist()"
   ]
  },
  {
   "cell_type": "code",
   "execution_count": 9,
   "id": "6b37d89c",
   "metadata": {},
   "outputs": [
    {
     "data": {
      "text/html": [
       "<div>\n",
       "<style scoped>\n",
       "    .dataframe tbody tr th:only-of-type {\n",
       "        vertical-align: middle;\n",
       "    }\n",
       "\n",
       "    .dataframe tbody tr th {\n",
       "        vertical-align: top;\n",
       "    }\n",
       "\n",
       "    .dataframe thead th {\n",
       "        text-align: right;\n",
       "    }\n",
       "</style>\n",
       "<table border=\"1\" class=\"dataframe\">\n",
       "  <thead>\n",
       "    <tr style=\"text-align: right;\">\n",
       "      <th></th>\n",
       "      <th>Age</th>\n",
       "      <th>Height</th>\n",
       "    </tr>\n",
       "  </thead>\n",
       "  <tbody>\n",
       "    <tr>\n",
       "      <th>count</th>\n",
       "      <td>100.000000</td>\n",
       "      <td>100.000000</td>\n",
       "    </tr>\n",
       "    <tr>\n",
       "      <th>mean</th>\n",
       "      <td>7.966138</td>\n",
       "      <td>45.955674</td>\n",
       "    </tr>\n",
       "    <tr>\n",
       "      <th>std</th>\n",
       "      <td>5.321621</td>\n",
       "      <td>10.787318</td>\n",
       "    </tr>\n",
       "    <tr>\n",
       "      <th>min</th>\n",
       "      <td>-0.780853</td>\n",
       "      <td>27.332513</td>\n",
       "    </tr>\n",
       "    <tr>\n",
       "      <th>25%</th>\n",
       "      <td>3.048885</td>\n",
       "      <td>36.320107</td>\n",
       "    </tr>\n",
       "    <tr>\n",
       "      <th>50%</th>\n",
       "      <td>7.795597</td>\n",
       "      <td>46.178251</td>\n",
       "    </tr>\n",
       "    <tr>\n",
       "      <th>75%</th>\n",
       "      <td>11.464331</td>\n",
       "      <td>53.994166</td>\n",
       "    </tr>\n",
       "    <tr>\n",
       "      <th>max</th>\n",
       "      <td>17.887852</td>\n",
       "      <td>68.170414</td>\n",
       "    </tr>\n",
       "  </tbody>\n",
       "</table>\n",
       "</div>"
      ],
      "text/plain": [
       "              Age      Height\n",
       "count  100.000000  100.000000\n",
       "mean     7.966138   45.955674\n",
       "std      5.321621   10.787318\n",
       "min     -0.780853   27.332513\n",
       "25%      3.048885   36.320107\n",
       "50%      7.795597   46.178251\n",
       "75%     11.464331   53.994166\n",
       "max     17.887852   68.170414"
      ]
     },
     "execution_count": 9,
     "metadata": {},
     "output_type": "execute_result"
    }
   ],
   "source": [
    "Data.describe()"
   ]
  },
  {
   "cell_type": "markdown",
   "id": "af0a4914",
   "metadata": {},
   "source": [
    "# Clean Data"
   ]
  },
  {
   "cell_type": "code",
   "execution_count": 13,
   "id": "ffd125e5",
   "metadata": {},
   "outputs": [
    {
     "data": {
      "text/plain": [
       "False    93\n",
       "True      7\n",
       "Name: Age, dtype: int64"
      ]
     },
     "execution_count": 13,
     "metadata": {},
     "output_type": "execute_result"
    }
   ],
   "source": [
    "(Data['Age']<0).value_counts()"
   ]
  },
  {
   "cell_type": "code",
   "execution_count": 14,
   "id": "d594cdf1",
   "metadata": {
    "scrolled": true
   },
   "outputs": [
    {
     "data": {
      "text/html": [
       "<div>\n",
       "<style scoped>\n",
       "    .dataframe tbody tr th:only-of-type {\n",
       "        vertical-align: middle;\n",
       "    }\n",
       "\n",
       "    .dataframe tbody tr th {\n",
       "        vertical-align: top;\n",
       "    }\n",
       "\n",
       "    .dataframe thead th {\n",
       "        text-align: right;\n",
       "    }\n",
       "</style>\n",
       "<table border=\"1\" class=\"dataframe\">\n",
       "  <thead>\n",
       "    <tr style=\"text-align: right;\">\n",
       "      <th></th>\n",
       "      <th>Age</th>\n",
       "      <th>Height</th>\n",
       "    </tr>\n",
       "  </thead>\n",
       "  <tbody>\n",
       "    <tr>\n",
       "      <th>0</th>\n",
       "      <td>14.767874</td>\n",
       "      <td>59.627484</td>\n",
       "    </tr>\n",
       "    <tr>\n",
       "      <th>1</th>\n",
       "      <td>3.107671</td>\n",
       "      <td>36.146453</td>\n",
       "    </tr>\n",
       "    <tr>\n",
       "      <th>2</th>\n",
       "      <td>7.266917</td>\n",
       "      <td>46.912878</td>\n",
       "    </tr>\n",
       "    <tr>\n",
       "      <th>3</th>\n",
       "      <td>1.815180</td>\n",
       "      <td>29.125660</td>\n",
       "    </tr>\n",
       "    <tr>\n",
       "      <th>4</th>\n",
       "      <td>16.753758</td>\n",
       "      <td>68.170414</td>\n",
       "    </tr>\n",
       "    <tr>\n",
       "      <th>...</th>\n",
       "      <td>...</td>\n",
       "      <td>...</td>\n",
       "    </tr>\n",
       "    <tr>\n",
       "      <th>95</th>\n",
       "      <td>7.323712</td>\n",
       "      <td>46.857505</td>\n",
       "    </tr>\n",
       "    <tr>\n",
       "      <th>96</th>\n",
       "      <td>5.591509</td>\n",
       "      <td>39.339990</td>\n",
       "    </tr>\n",
       "    <tr>\n",
       "      <th>97</th>\n",
       "      <td>2.625606</td>\n",
       "      <td>32.918925</td>\n",
       "    </tr>\n",
       "    <tr>\n",
       "      <th>98</th>\n",
       "      <td>5.519293</td>\n",
       "      <td>40.704154</td>\n",
       "    </tr>\n",
       "    <tr>\n",
       "      <th>99</th>\n",
       "      <td>13.117413</td>\n",
       "      <td>55.177407</td>\n",
       "    </tr>\n",
       "  </tbody>\n",
       "</table>\n",
       "<p>93 rows × 2 columns</p>\n",
       "</div>"
      ],
      "text/plain": [
       "          Age     Height\n",
       "0   14.767874  59.627484\n",
       "1    3.107671  36.146453\n",
       "2    7.266917  46.912878\n",
       "3    1.815180  29.125660\n",
       "4   16.753758  68.170414\n",
       "..        ...        ...\n",
       "95   7.323712  46.857505\n",
       "96   5.591509  39.339990\n",
       "97   2.625606  32.918925\n",
       "98   5.519293  40.704154\n",
       "99  13.117413  55.177407\n",
       "\n",
       "[93 rows x 2 columns]"
      ]
     },
     "execution_count": 14,
     "metadata": {},
     "output_type": "execute_result"
    }
   ],
   "source": [
    "Data[Data['Age']>0]"
   ]
  },
  {
   "cell_type": "code",
   "execution_count": 15,
   "id": "ea88faaa",
   "metadata": {},
   "outputs": [],
   "source": [
    "cleaned_data = Data[Data['Age']>0]"
   ]
  },
  {
   "cell_type": "markdown",
   "id": "e10963a2",
   "metadata": {},
   "source": [
    "# Visualize the Data  "
   ]
  },
  {
   "cell_type": "code",
   "execution_count": 25,
   "id": "f0b2c3fc",
   "metadata": {},
   "outputs": [
    {
     "data": {
      "text/plain": [
       "<matplotlib.legend.Legend at 0xfbc97d8>"
      ]
     },
     "execution_count": 25,
     "metadata": {},
     "output_type": "execute_result"
    },
    {
     "data": {
      "image/png": "[encoded data removed]",
      "text/plain": [
       "<Figure size 864x576 with 1 Axes>"
      ]
     },
     "metadata": {
      "needs_background": "light"
     },
     "output_type": "display_data"
    }
   ],
   "source": [
    "from matplotlib.pyplot import figure\n",
    "\n",
    "figure(figsize=(12,8))\n",
    "\n",
    "x = cleaned_data['Age']\n",
    "y = cleaned_data['Height']\n",
    "plt.scatter(x , y , label = 'Actuel Data')\n",
    "plt.xlabel('Age')\n",
    "plt.ylabel('Heights')\n",
    "plt.legend()"
   ]
  },
  {
   "cell_type": "markdown",
   "id": "34217bf3",
   "metadata": {},
   "source": [
    "Linear rigression Model"
   ]
  },
  {
   "cell_type": "code",
   "execution_count": 26,
   "id": "afe110fd",
   "metadata": {},
   "outputs": [],
   "source": [
    "parameters = {'alpha' : 2, 'beta' : 1}"
   ]
  },
  {
   "cell_type": "code",
   "execution_count": 27,
   "id": "a7c0b399",
   "metadata": {},
   "outputs": [],
   "source": [
    "def model(x , prams): \n",
    "    coff = prams['alpha']\n",
    "    intrcept = prams['beta']\n",
    "    \n",
    "    y_hat = coff* x + intrcept\n",
    "    \n",
    "    return y_hat\n",
    "    \n",
    "    "
   ]
  },
  {
   "cell_type": "code",
   "execution_count": 29,
   "id": "9adb0238",
   "metadata": {},
   "outputs": [
    {
     "data": {
      "text/plain": [
       "9"
      ]
     },
     "execution_count": 29,
     "metadata": {},
     "output_type": "execute_result"
    }
   ],
   "source": [
    "model(4,parameters)"
   ]
  },
  {
   "cell_type": "code",
   "execution_count": 30,
   "id": "e4200b31",
   "metadata": {},
   "outputs": [],
   "source": [
    "def training_model(data , params ) : \n",
    "    x  , y  =  data['Age'],data['Height']  \n",
    "    \n",
    "    x_bar = x.mean()\n",
    "    y_bar = y.mean()\n",
    "    \n",
    "    x,y = x.to_numpy() ,y.to_numpy()\n",
    "    \n",
    "    alpha =  sum( ((x - x_bar) * (y - y_bar)) /  sum( (x -x_bar)**2))\n",
    "    beta  =  y_bar -  alpha*x_bar \n",
    "    \n",
    "    params['alpha'] =  alpha\n",
    "    params['beta'] =  beta"
   ]
  },
  {
   "cell_type": "code",
   "execution_count": 69,
   "id": "4ba3226c",
   "metadata": {},
   "outputs": [],
   "source": [
    "new_params = {'alpha' : 4 ,'beta': 2 }\n",
    "new_params_copy = new_params.copy()"
   ]
  },
  {
   "cell_type": "code",
   "execution_count": 71,
   "id": "48aafbd6",
   "metadata": {},
   "outputs": [],
   "source": [
    "x_range = list(range(19)) \n",
    "y_range = [model(x,new_params_copy) for x in x_range]"
   ]
  },
  {
   "cell_type": "code",
   "execution_count": 70,
   "id": "8982cae6",
   "metadata": {},
   "outputs": [
    {
     "data": {
      "text/plain": [
       "[2, 6, 10, 14, 18, 22, 26, 30, 34, 38, 42, 46, 50, 54, 58, 62, 66, 70, 74]"
      ]
     },
     "execution_count": 70,
     "metadata": {},
     "output_type": "execute_result"
    }
   ],
   "source": [
    "[model(x,new_params_copy) for x in x_range]"
   ]
  },
  {
   "cell_type": "code",
   "execution_count": 73,
   "id": "f6b789dd",
   "metadata": {},
   "outputs": [
    {
     "data": {
      "text/plain": [
       "{'alpha': 2.0014168989106316, 'beta': 29.96185761461583}"
      ]
     },
     "execution_count": 73,
     "metadata": {},
     "output_type": "execute_result"
    }
   ],
   "source": [
    "#Training the new Prametres \n",
    "training_model(cleaned_data,new_params)\n",
    "new_params"
   ]
  },
  {
   "cell_type": "code",
   "execution_count": 74,
   "id": "5bc9b581",
   "metadata": {},
   "outputs": [],
   "source": [
    "y_range_trained = [model(x,new_params) for x in x_range]"
   ]
  },
  {
   "cell_type": "code",
   "execution_count": 78,
   "id": "99dc2d47",
   "metadata": {},
   "outputs": [
    {
     "data": {
      "image/png": "[encoded data removed]",
      "text/plain": [
       "<Figure size 864x576 with 1 Axes>"
      ]
     },
     "metadata": {
      "needs_background": "light"
     },
     "output_type": "display_data"
    }
   ],
   "source": [
    "figure(figsize=(12,8))\n",
    "\n",
    "x = cleaned_data['Age']\n",
    "y = cleaned_data['Height']\n",
    "plt.scatter(x , y , label = 'Actuel Data')\n",
    "plt.plot(x_range,y_range,label = 'Untrainde Prameters',color = 'green')\n",
    "plt.plot(x_range,y_range_trained,label = 'Trained Paremetrs',  color= 'red',lw = 2)\n",
    "plt.xlabel('Age')\n",
    "plt.ylabel('Heights')\n",
    "plt.legend()\n",
    "plt.grid()"
   ]
  },
  {
   "cell_type": "code",
   "execution_count": 80,
   "id": "e8f06ef0",
   "metadata": {},
   "outputs": [
    {
     "data": {
      "text/plain": [
       "69.99019559282846"
      ]
     },
     "execution_count": 80,
     "metadata": {},
     "output_type": "execute_result"
    }
   ],
   "source": [
    "#predict Some Value \n",
    "\n",
    "model(20,new_params)"
   ]
  },
  {
   "cell_type": "code",
   "execution_count": null,
   "id": "5c174b3f",
   "metadata": {},
   "outputs": [],
   "source": []
  }
 ],
 "metadata": {
  "kernelspec": {
   "display_name": "Python 3",
   "language": "python",
   "name": "python3"
  },
  "language_info": {
   "codemirror_mode": {
    "name": "ipython",
    "version": 3
   },
   "file_extension": ".py",
   "mimetype": "text/x-python",
   "name": "python",
   "nbconvert_exporter": "python",
   "pygments_lexer": "ipython3",
   "version": "3.8.1"
  }
 },
 "nbformat": 4,
 "nbformat_minor": 5
}
